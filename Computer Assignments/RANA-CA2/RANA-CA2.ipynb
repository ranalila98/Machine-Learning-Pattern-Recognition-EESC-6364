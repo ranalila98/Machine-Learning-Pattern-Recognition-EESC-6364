{
 "cells": [
  {
   "cell_type": "code",
   "execution_count": 2,
   "id": "4b47246d-9f62-4771-821a-fb30acaff949",
   "metadata": {},
   "outputs": [
    {
     "name": "stderr",
     "output_type": "stream",
     "text": [
      "Matplotlib is building the font cache; this may take a moment.\n"
     ]
    },
    {
     "name": "stdout",
     "output_type": "stream",
     "text": [
      "Random samples:\n",
      " [[ 9.33372694e-02  1.60757775e+00  3.27983859e-01]\n",
      " [-1.97738974e+00 -2.93488031e-01  3.14317964e-01]\n",
      " [ 1.38989697e+00  6.68189863e-01 -1.83088708e-01]\n",
      " [-5.46809555e-01 -1.14341548e+00 -8.80944731e-01]\n",
      " [-2.53276709e-02  4.05720481e-01 -1.82170801e-01]\n",
      " [ 7.27449638e-01  2.05875417e-01  4.37875587e-01]\n",
      " [-2.16023516e+00 -1.43710220e+00 -7.52390990e-01]\n",
      " [ 2.51915685e-01  3.43577969e-01  1.10116024e+00]\n",
      " [ 1.14704003e+00  5.56338464e-03 -7.67512056e-01]\n",
      " [-2.09840590e-04  1.02098234e+00 -5.06010283e-02]]\n",
      "Random samples:\n",
      " [[ 0.92210643 -0.86243178]\n",
      " [-0.73942702 -1.1746    ]\n",
      " [ 0.23609491 -0.86519767]\n",
      " [ 1.39071334  0.26442668]\n",
      " [ 0.48574086 -0.57154715]]\n"
     ]
    }
   ],
   "source": [
    "import numpy as np\n",
    "import matplotlib.pyplot as plt\n",
    "\n",
    "# Function to generate random samples from N(µ, Σ)\n",
    "def generate_samples(mean, cov, num_samples=100):\n",
    "    samples = np.random.multivariate_normal(mean, cov, num_samples)\n",
    "    return samples\n",
    "\n",
    "# Test1\n",
    "mean = [0, 0, 0]  # 3-dimensional mean vector\n",
    "cov = [[1, 0.5, 0.3], [0.5, 1, 0.2], [0.3, 0.2, 1]]  # Covariance matrix\n",
    "num_samples = 10\n",
    "\n",
    "samples_1 = generate_samples(mean, cov, num_samples)\n",
    "print(\"Random samples:\\n\",samples_1)\n",
    "\n",
    "# Test\n",
    "mean = [0, 0]\n",
    "cov = [[1, 0], [0, 1]]\n",
    "samples_2 = generate_samples(mean, cov, 5)\n",
    "print(\"Random samples:\\n\", samples_2)"
   ]
  },
  {
   "cell_type": "code",
   "execution_count": 3,
   "id": "a23ea0b4-5ee0-4afc-bc56-f36e7d9fa4e4",
   "metadata": {},
   "outputs": [
    {
     "name": "stdout",
     "output_type": "stream",
     "text": [
      "Discriminant value for data point 1: -9.742992723074721\n",
      "Discriminant value for data point 2: -8.550076134856967\n",
      "Discriminant value for data point 3: -9.371369114814723\n",
      "Discriminant value for data point 4: -8.661507416356068\n",
      "Discriminant value for data point 5: -9.535682282257529\n",
      "Discriminant value for data point 6: -8.288339188427187\n",
      "Discriminant value for data point 7: -8.35257304860075\n",
      "Discriminant value for data point 8: -8.661812066640318\n",
      "Discriminant value for data point 9: -8.889455292376104\n",
      "Discriminant value for data point 10: -8.76042133294347\n"
     ]
    }
   ],
   "source": [
    "def discriminant_function(x, mean, cov, prior_prob):\n",
    "    cov_inv = np.linalg.inv(cov)\n",
    "    cov_det = np.linalg.det(cov)\n",
    "    d = len(x)\n",
    "    \n",
    "    term1 = -0.5 * np.log(cov_det)\n",
    "    term2 = -0.5 * np.dot(np.dot((x - mean).T, cov_inv), (x - mean))\n",
    "    term3 = np.log(prior_prob)\n",
    "    term4 = -0.5 * d * np.log(2 * np.pi)\n",
    "    \n",
    "    return term1 + term2 + term3 + term4\n",
    "\n",
    "# taking test data reference from second problem \n",
    "data1 = [[-5.01, -8.12, -3.68],\n",
    "         [-5.43, -3.48, -3.54],\n",
    "         [ 1.08, -5.52,  1.66],\n",
    "         [ 0.86, -3.78, -4.11],\n",
    "         [-2.67,  0.63,  7.39],\n",
    "         [ 4.94,  3.29,  2.08],\n",
    "         [-2.51,  2.09, -2.59],\n",
    "         [-2.25, -2.13, -6.94],\n",
    "         [ 5.56,  2.86, -2.26],\n",
    "         [ 1.03, -3.33,  4.33]]\n",
    "\n",
    "data1 = np.array(data1)\n",
    "\n",
    "# Test\n",
    "mean = np.array([0, 0, 0])\n",
    "cov = np.cov(data1.T)  # Covariance matrix \n",
    "prior_prob = 0.5 \n",
    "\n",
    "discriminant_values = []\n",
    "for x in data1:\n",
    "    g_x = discriminant_function(x, mean, cov, prior_prob)\n",
    "    discriminant_values.append(g_x)\n",
    "\n",
    "for i, val in enumerate(discriminant_values):\n",
    "    print(f\"Discriminant value for data point {i + 1}: {val}\")"
   ]
  },
  {
   "cell_type": "code",
   "execution_count": 4,
   "id": "5935334a-6370-435c-ae62-3d896c7f4068",
   "metadata": {},
   "outputs": [
    {
     "name": "stdout",
     "output_type": "stream",
     "text": [
      "Euclidean distance: 5.196152422706632\n"
     ]
    }
   ],
   "source": [
    "def euclidean_distance(x1, x2):\n",
    "    dist = np.linalg.norm(x1 - x2)\n",
    "    return dist\n",
    "\n",
    "# Test\n",
    "x1 = np.array([1, 2, 3])\n",
    "x2 = np.array([4, 5, 6])\n",
    "\n",
    "euclid_dist = euclidean_distance(x1, x2)\n",
    "print(f\"Euclidean distance: {euclid_dist}\")"
   ]
  },
  {
   "cell_type": "code",
   "execution_count": 5,
   "id": "80279156-05cf-40b1-9ff2-eb8e9888ae27",
   "metadata": {},
   "outputs": [
    {
     "name": "stdout",
     "output_type": "stream",
     "text": [
      "Mahalanobis distance: 0.7806737036126006\n"
     ]
    }
   ],
   "source": [
    "def mahalanobis_distance(x, mean, cov):\n",
    "    cov_inv = np.linalg.inv(cov)\n",
    "    diff = x - mean\n",
    "    dist = np.sqrt(np.dot(np.dot(diff.T, cov_inv), diff))\n",
    "    return dist\n",
    "\n",
    "# Test data\n",
    "x = np.array([1, 2, 3])\n",
    "\n",
    "mahal_dist = mahalanobis_distance(x, mean, cov)\n",
    "print(f\"Mahalanobis distance: {mahal_dist}\")"
   ]
  },
  {
   "cell_type": "code",
   "execution_count": 6,
   "id": "2d3f1247-e527-44ef-b90f-ac3800576b4c",
   "metadata": {},
   "outputs": [],
   "source": [
    "data1 = np.array([[-5.01, -8.12, -3.68],\n",
    "                  [-5.43, -3.48, -3.54],\n",
    "                  [ 1.08, -5.52,  1.66],\n",
    "                  [ 0.86, -3.78, -4.11],\n",
    "                  [-2.67,  0.63,  7.39],\n",
    "                  [ 4.94,  3.29,  2.08],\n",
    "                  [-2.51,  2.09, -2.59],\n",
    "                  [-2.25, -2.13, -6.94],\n",
    "                  [ 5.56,  2.86, -2.26],\n",
    "                  [ 1.03, -3.33,  4.33]])\n",
    "\n",
    "data2 = np.array([[-0.91, -0.18, -0.05],\n",
    "                  [ 1.30, -2.06, -3.53],\n",
    "                  [-7.75, -4.54, -0.95],\n",
    "                  [-5.47,  0.50,  3.92],\n",
    "                  [ 6.14,  5.72, -4.85],\n",
    "                  [ 3.60,  1.26,  4.36],\n",
    "                  [ 5.37, -4.63, -3.65],\n",
    "                  [ 7.18,  1.46, -6.66],\n",
    "                  [-7.39,  1.17,  6.30],\n",
    "                  [-7.50, -6.32, -0.31]])\n",
    "\n",
    "data3 = np.array([[ 5.35,  2.26,  8.13],\n",
    "                  [ 5.12,  3.22, -2.66],\n",
    "                  [-1.34, -5.31, -9.87],\n",
    "                  [ 4.48,  3.42,  5.19],\n",
    "                  [ 7.11,  2.39,  9.21],\n",
    "                  [ 7.17,  4.33, -0.98],\n",
    "                  [ 5.75,  3.97,  6.65],\n",
    "                  [ 0.77,  0.27,  2.41],\n",
    "                  [ 0.90, -0.43, -8.71],\n",
    "                  [ 3.52, -0.36,  6.43]])"
   ]
  },
  {
   "cell_type": "code",
   "execution_count": 7,
   "id": "5a92087e-3c8f-49fc-8ddd-d3f40cdde496",
   "metadata": {},
   "outputs": [],
   "source": [
    "# Prior probabilities (P(w1) = P(w3) = 1/2, P(w2) = 0)\n",
    "prior_w1 = 0.5\n",
    "prior_w2 = 0\n",
    "prior_w3 = 0.5"
   ]
  },
  {
   "cell_type": "code",
   "execution_count": 8,
   "id": "dfa41156-5eba-414c-b774-d916bbaecf52",
   "metadata": {},
   "outputs": [
    {
     "name": "stdout",
     "output_type": "stream",
     "text": [
      "Point -5.01 is classified as Class 1\n",
      "Point -5.43 is classified as Class 1\n",
      "Point 1.08 is classified as Class 1\n",
      "Point 0.86 is classified as Class 1\n",
      "Point -2.67 is classified as Class 1\n",
      "Point 4.94 is classified as Class 3\n",
      "Point -2.51 is classified as Class 1\n",
      "Point -2.25 is classified as Class 1\n",
      "Point 5.56 is classified as Class 3\n",
      "Point 1.03 is classified as Class 1\n"
     ]
    }
   ],
   "source": [
    "# Use only the x1 feature\n",
    "x1_data1 = data1[:, 0]\n",
    "x1_data2 = data2[:, 0]\n",
    "x1_data3 = data3[:, 0]\n",
    "\n",
    "# Compute the mean and variance \n",
    "mean1 = np.mean(x1_data1)\n",
    "mean2 = np.mean(x1_data2)\n",
    "mean3 = np.mean(x1_data3)\n",
    "\n",
    "var1 = np.var(x1_data1)\n",
    "var2 = np.var(x1_data2)\n",
    "var3 = np.var(x1_data3)\n",
    "cov1 = np.array([[var1]])\n",
    "cov3 = np.array([[var3]])\n",
    "\n",
    "# Classify data points in data1 using the discriminant function\n",
    "for x in x1_data1:\n",
    "    g1 = discriminant_function(np.array([x]), np.array([mean1]), cov1, prior_w1)\n",
    "    g3 = discriminant_function(np.array([x]), np.array([mean3]), cov3, prior_w3)\n",
    "    if g1 > g3:\n",
    "        print(f\"Point {x} is classified as Class 1\")\n",
    "    else:\n",
    "        print(f\"Point {x} is classified as Class 3\")"
   ]
  },
  {
   "cell_type": "code",
   "execution_count": 9,
   "id": "7438b2eb-c110-4187-a799-fc08668c9990",
   "metadata": {},
   "outputs": [
    {
     "name": "stdout",
     "output_type": "stream",
     "text": [
      "Empirical training error is 25.00%\n"
     ]
    }
   ],
   "source": [
    "# Combine data1 and data3\n",
    "x1_combined = np.concatenate([x1_data1, x1_data3])\n",
    "true_labels = np.concatenate([np.ones(len(x1_data1)), np.full(len(x1_data3), 3)])  # Class 1 and Class 3\n",
    "\n",
    "# Store predicted labels\n",
    "predicted_labels = []\n",
    "\n",
    "# Classify data points\n",
    "for x in x1_combined:\n",
    "    g1 = discriminant_function(np.array([x]), np.array([mean1]), cov1, prior_w1)\n",
    "    g3 = discriminant_function(np.array([x]), np.array([mean3]), cov3, prior_w3)\n",
    "    if g1 > g3:\n",
    "        predicted_labels.append(1)  # Class 1\n",
    "    else:\n",
    "        predicted_labels.append(3)  # Class 3\n",
    "\n",
    "# Calculate empirical training error\n",
    "predicted_labels = np.array(predicted_labels)\n",
    "errors = np.sum(predicted_labels != true_labels)\n",
    "\n",
    "empirical_error = (errors / len(true_labels)) * 100\n",
    "print(f\"Empirical training error is {empirical_error:.2f}%\")"
   ]
  },
  {
   "cell_type": "code",
   "execution_count": 10,
   "id": "55592096-01c1-4307-8af3-baf5539b8b39",
   "metadata": {},
   "outputs": [
    {
     "name": "stdout",
     "output_type": "stream",
     "text": [
      "Bhattacharyya bound for one feature: 0.7808\n"
     ]
    }
   ],
   "source": [
    "def bhattacharyya_bound(mean1, mean3, cov1, cov3):\n",
    "    # Calculate the average covariance matrix\n",
    "    cov_avg = (cov1 + cov3) / 2\n",
    "    diff_mean = mean3 - mean1\n",
    "    \n",
    "    # First term\n",
    "    cov_avg_inv = np.linalg.inv(cov_avg)\n",
    "    term1 = 0.125 * np.dot(np.dot(diff_mean.T, cov_avg_inv), diff_mean)\n",
    "    \n",
    "    # Second term\n",
    "    det_cov_avg = np.linalg.det(cov_avg)\n",
    "    det_cov1 = np.linalg.det(cov1)\n",
    "    det_cov3 = np.linalg.det(cov3)\n",
    "    term2 = 0.5 * np.log(det_cov_avg / np.sqrt(det_cov1 * det_cov3))\n",
    "    \n",
    "    # Bhattacharyya coefficient\n",
    "    B = term1 + term2\n",
    "    error_bound = np.exp(-B)\n",
    "    return B, error_bound\n",
    "\n",
    "# Compute Bhattacharyya bound for x1 (one feature)\n",
    "bhatt_B_1d, bhatt_bound_1d = bhattacharyya_bound(np.array([mean1]), np.array([mean3]), cov1, cov3)\n",
    "print(f\"Bhattacharyya bound for one feature: {bhatt_bound_1d:.4f}\")"
   ]
  },
  {
   "cell_type": "code",
   "execution_count": 11,
   "id": "4359b144-3538-43c9-b7bb-32dae941ab0c",
   "metadata": {},
   "outputs": [
    {
     "name": "stdout",
     "output_type": "stream",
     "text": [
      "Empirical training error for 2 features: 20.00%\n"
     ]
    }
   ],
   "source": [
    "# Use x1 and x2 features\n",
    "x12_data1 = data1[:, :2]\n",
    "x12_data3 = data3[:, :2]\n",
    "\n",
    "mean1_2d = np.mean(x12_data1, axis=0)\n",
    "mean3_2d = np.mean(x12_data3, axis=0)\n",
    "\n",
    "cov1_2d = np.cov(x12_data1, rowvar=False)\n",
    "cov3_2d = np.cov(x12_data3, rowvar=False)\n",
    "\n",
    "# Combine the data and true labels for classification\n",
    "x12_combined = np.concatenate([x12_data1, x12_data3])\n",
    "true_labels_2d = np.concatenate([np.ones(len(x12_data1)), np.full(len(x12_data3), 3)])\n",
    "\n",
    "predicted_labels_2d = []\n",
    "for x in x12_combined:\n",
    "    g1 = discriminant_function(x, mean1_2d, cov1_2d, prior_w1)\n",
    "    g3 = discriminant_function(x, mean3_2d, cov3_2d, prior_w3)\n",
    "    if g1 > g3:\n",
    "        predicted_labels_2d.append(1)\n",
    "    else:\n",
    "        predicted_labels_2d.append(3)\n",
    "\n",
    "# Calculate empirical training error for 2D\n",
    "predicted_labels_2d = np.array(predicted_labels_2d)\n",
    "errors_2d = np.sum(predicted_labels_2d != true_labels_2d)\n",
    "empirical_error_2d = (errors_2d / len(true_labels_2d)) * 100\n",
    "print(f\"Empirical training error for 2 features: {empirical_error_2d:.2f}%\")\n"
   ]
  },
  {
   "cell_type": "code",
   "execution_count": 12,
   "id": "d765c3c4-a6ae-4ccc-b6b4-3c47c4faf996",
   "metadata": {},
   "outputs": [
    {
     "name": "stdout",
     "output_type": "stream",
     "text": [
      "Bhattacharyya bound for 2 features: 0.6584\n"
     ]
    }
   ],
   "source": [
    "def bhattacharyya_bound(mean1, mean3, cov1, cov3):\n",
    "    cov_avg = (cov1 + cov3) / 2\n",
    "    diff_mean = mean3 - mean1\n",
    "    \n",
    "    # First term\n",
    "    cov_avg_inv = np.linalg.inv(cov_avg)\n",
    "    term1 = 0.125 * np.dot(np.dot(diff_mean.T, cov_avg_inv), diff_mean)\n",
    "    \n",
    "    # Second term\n",
    "    det_cov_avg = np.linalg.det(cov_avg)\n",
    "    det_cov1 = np.linalg.det(cov1)\n",
    "    det_cov3 = np.linalg.det(cov3)\n",
    "    term2 = 0.5 * np.log(det_cov_avg / np.sqrt(det_cov1 * det_cov3))\n",
    "    \n",
    "    # Bhattacharyya coefficient\n",
    "    B = term1 + term2\n",
    "    error_bound = np.exp(-B)\n",
    "    return B, error_bound\n",
    "\n",
    "# Compute Bhattacharyya bound for the 3 features case\n",
    "bhatt_B_2d, bhatt_bound_2d = bhattacharyya_bound(mean1_2d, mean3_2d, cov1_2d, cov3_2d)\n",
    "# print(f\"Bhattacharyya coefficient (B) for 2 features : {bhatt_B_2d:.4f}\")\n",
    "print(f\"Bhattacharyya bound for 2 features: {bhatt_bound_2d:.4f}\")\n"
   ]
  },
  {
   "cell_type": "code",
   "execution_count": 13,
   "id": "b3f0a785-9112-4334-9d3e-6e0f149abbc2",
   "metadata": {},
   "outputs": [
    {
     "name": "stdout",
     "output_type": "stream",
     "text": [
      "Empirical training error for 3 features: 15.00%\n"
     ]
    }
   ],
   "source": [
    "# Use x1, x2, and x3 features (all features)\n",
    "x123_data1 = data1  \n",
    "x123_data3 = data3 \n",
    "\n",
    "mean1_3d = np.mean(x123_data1, axis=0)\n",
    "mean3_3d = np.mean(x123_data3, axis=0)\n",
    "\n",
    "cov1_3d = np.cov(x123_data1, rowvar=False)\n",
    "cov3_3d = np.cov(x123_data3, rowvar=False)\n",
    "\n",
    "x123_combined = np.concatenate([x123_data1, x123_data3])\n",
    "true_labels_3d = np.concatenate([np.ones(len(x123_data1)), np.full(len(x123_data3), 3)])\n",
    "\n",
    "predicted_labels_3d = []\n",
    "for x in x123_combined:\n",
    "    g1 = discriminant_function(x, mean1_3d, cov1_3d, prior_w1)\n",
    "    g3 = discriminant_function(x, mean3_3d, cov3_3d, prior_w3)\n",
    "    if g1 > g3:\n",
    "        predicted_labels_3d.append(1)\n",
    "    else:\n",
    "        predicted_labels_3d.append(3)\n",
    "\n",
    "# Calculate empirical training error for 3D\n",
    "predicted_labels_3d = np.array(predicted_labels_3d)\n",
    "errors_3d = np.sum(predicted_labels_3d != true_labels_3d)\n",
    "empirical_error_3d = (errors_3d / len(true_labels_3d)) * 100\n",
    "print(f\"Empirical training error for 3 features: {empirical_error_3d:.2f}%\")"
   ]
  },
  {
   "cell_type": "code",
   "execution_count": 14,
   "id": "5302b0a7-df48-484e-a70e-1557e1ceaa1f",
   "metadata": {},
   "outputs": [
    {
     "name": "stdout",
     "output_type": "stream",
     "text": [
      "Bhattacharyya bound for 3 features: 0.5987\n"
     ]
    }
   ],
   "source": [
    "def bhattacharyya_bound(mean1, mean3, cov1, cov3):\n",
    "    cov_avg = (cov1 + cov3) / 2\n",
    "    diff_mean = mean3 - mean1\n",
    "    \n",
    "    # First term\n",
    "    cov_avg_inv = np.linalg.inv(cov_avg)\n",
    "    term1 = 0.125 * np.dot(np.dot(diff_mean.T, cov_avg_inv), diff_mean)\n",
    "    \n",
    "    # Second term\n",
    "    det_cov_avg = np.linalg.det(cov_avg)\n",
    "    det_cov1 = np.linalg.det(cov1)\n",
    "    det_cov3 = np.linalg.det(cov3)\n",
    "    term2 = 0.5 * np.log(det_cov_avg / np.sqrt(det_cov1 * det_cov3))\n",
    "    \n",
    "    # Bhattacharyya coefficient\n",
    "    B = term1 + term2\n",
    "    error_bound = np.exp(-B)\n",
    "    return B, error_bound\n",
    "\n",
    "# Compute Bhattacharyya bound for the 3 features case\n",
    "bhatt_B_3d, bhatt_bound_3d = bhattacharyya_bound(mean1_3d, mean3_3d, cov1_3d, cov3_3d)\n",
    "# print(f\"Bhattacharyya coefficient (B) for 3 features : {bhatt_B_3d:.4f}\")\n",
    "print(f\"Bhattacharyya bound for 3 features: {bhatt_bound_3d:.4f}\")\n"
   ]
  },
  {
   "cell_type": "code",
   "execution_count": null,
   "id": "c55df27d-c6b7-436a-8f60-cefb1aa2646b",
   "metadata": {},
   "outputs": [],
   "source": []
  },
  {
   "cell_type": "code",
   "execution_count": null,
   "id": "614d40da-e2a3-4990-8f41-f4e942f83f1f",
   "metadata": {},
   "outputs": [],
   "source": []
  },
  {
   "cell_type": "code",
   "execution_count": null,
   "id": "e2094435-2687-4a27-ba89-f0e566258228",
   "metadata": {},
   "outputs": [],
   "source": []
  }
 ],
 "metadata": {
  "kernelspec": {
   "display_name": "Python 3 (ipykernel)",
   "language": "python",
   "name": "python3"
  },
  "language_info": {
   "codemirror_mode": {
    "name": "ipython",
    "version": 3
   },
   "file_extension": ".py",
   "mimetype": "text/x-python",
   "name": "python",
   "nbconvert_exporter": "python",
   "pygments_lexer": "ipython3",
   "version": "3.12.5"
  }
 },
 "nbformat": 4,
 "nbformat_minor": 5
}
